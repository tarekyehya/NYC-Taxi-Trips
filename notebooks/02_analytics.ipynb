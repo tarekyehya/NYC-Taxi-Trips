{
 "cells": [
  {
   "cell_type": "code",
   "execution_count": 5,
   "id": "d9ef0c6c-3427-4809-a939-51b4508083f1",
   "metadata": {},
   "outputs": [],
   "source": [
    "# constant\n",
    "DF_PATH = \"../data/processed/1_preprocessed_df.pkl\""
   ]
  },
  {
   "cell_type": "code",
   "execution_count": 3,
   "id": "11ba27f0-7090-4670-b9e0-4cb6b16943d2",
   "metadata": {},
   "outputs": [],
   "source": [
    "import pandas as pd\n",
    "import numpy as np\n",
    "import matplotlib.pyplot as plt\n",
    "import seaborn as sns\n",
    "import os "
   ]
  },
  {
   "cell_type": "code",
   "execution_count": 6,
   "id": "e7cb46dd-63ab-45de-bda2-8ed3bd20dfdb",
   "metadata": {},
   "outputs": [],
   "source": [
    "# Read Data \n",
    "df = pd.read_pickle(DF_PATH)"
   ]
  },
  {
   "cell_type": "code",
   "execution_count": 7,
   "id": "bb1c5138-bbb0-4136-ac74-7f93fa4a7160",
   "metadata": {},
   "outputs": [
    {
     "data": {
      "text/html": [
       "<div>\n",
       "<style scoped>\n",
       "    .dataframe tbody tr th:only-of-type {\n",
       "        vertical-align: middle;\n",
       "    }\n",
       "\n",
       "    .dataframe tbody tr th {\n",
       "        vertical-align: top;\n",
       "    }\n",
       "\n",
       "    .dataframe thead th {\n",
       "        text-align: right;\n",
       "    }\n",
       "</style>\n",
       "<table border=\"1\" class=\"dataframe\">\n",
       "  <thead>\n",
       "    <tr style=\"text-align: right;\">\n",
       "      <th></th>\n",
       "      <th>VendorID</th>\n",
       "      <th>tpep_pickup_datetime</th>\n",
       "      <th>tpep_dropoff_datetime</th>\n",
       "      <th>passenger_count</th>\n",
       "      <th>trip_distance</th>\n",
       "      <th>RatecodeID</th>\n",
       "      <th>store_and_fwd_flag</th>\n",
       "      <th>PULocationID</th>\n",
       "      <th>DOLocationID</th>\n",
       "      <th>payment_type</th>\n",
       "      <th>fare_amount</th>\n",
       "      <th>extra</th>\n",
       "      <th>mta_tax</th>\n",
       "      <th>tip_amount</th>\n",
       "      <th>tolls_amount</th>\n",
       "      <th>improvement_surcharge</th>\n",
       "      <th>total_amount</th>\n",
       "      <th>congestion_surcharge</th>\n",
       "    </tr>\n",
       "  </thead>\n",
       "  <tbody>\n",
       "    <tr>\n",
       "      <th>3277675</th>\n",
       "      <td>2</td>\n",
       "      <td>2020-01-17 14:22:52</td>\n",
       "      <td>2020-01-17 14:30:41</td>\n",
       "      <td>2</td>\n",
       "      <td>1.28</td>\n",
       "      <td>1</td>\n",
       "      <td>N</td>\n",
       "      <td>170</td>\n",
       "      <td>113</td>\n",
       "      <td>1.0</td>\n",
       "      <td>7.5</td>\n",
       "      <td>0.0</td>\n",
       "      <td>0.5</td>\n",
       "      <td>1.50</td>\n",
       "      <td>0.0</td>\n",
       "      <td>0.3</td>\n",
       "      <td>12.30</td>\n",
       "      <td>2.5</td>\n",
       "    </tr>\n",
       "    <tr>\n",
       "      <th>86746</th>\n",
       "      <td>2</td>\n",
       "      <td>2020-01-01 12:37:41</td>\n",
       "      <td>2020-01-01 12:51:38</td>\n",
       "      <td>1</td>\n",
       "      <td>3.05</td>\n",
       "      <td>1</td>\n",
       "      <td>N</td>\n",
       "      <td>144</td>\n",
       "      <td>164</td>\n",
       "      <td>2.0</td>\n",
       "      <td>12.5</td>\n",
       "      <td>0.0</td>\n",
       "      <td>0.5</td>\n",
       "      <td>0.00</td>\n",
       "      <td>0.0</td>\n",
       "      <td>0.3</td>\n",
       "      <td>15.80</td>\n",
       "      <td>2.5</td>\n",
       "    </tr>\n",
       "    <tr>\n",
       "      <th>3103341</th>\n",
       "      <td>2</td>\n",
       "      <td>2020-01-16 19:30:54</td>\n",
       "      <td>2020-01-16 19:44:12</td>\n",
       "      <td>1</td>\n",
       "      <td>1.82</td>\n",
       "      <td>1</td>\n",
       "      <td>N</td>\n",
       "      <td>236</td>\n",
       "      <td>238</td>\n",
       "      <td>1.0</td>\n",
       "      <td>10.5</td>\n",
       "      <td>1.0</td>\n",
       "      <td>0.5</td>\n",
       "      <td>1.00</td>\n",
       "      <td>0.0</td>\n",
       "      <td>0.3</td>\n",
       "      <td>15.80</td>\n",
       "      <td>2.5</td>\n",
       "    </tr>\n",
       "    <tr>\n",
       "      <th>453379</th>\n",
       "      <td>1</td>\n",
       "      <td>2020-01-03 18:29:54</td>\n",
       "      <td>2020-01-03 18:35:40</td>\n",
       "      <td>2</td>\n",
       "      <td>1.00</td>\n",
       "      <td>1</td>\n",
       "      <td>N</td>\n",
       "      <td>141</td>\n",
       "      <td>170</td>\n",
       "      <td>1.0</td>\n",
       "      <td>6.0</td>\n",
       "      <td>3.5</td>\n",
       "      <td>0.5</td>\n",
       "      <td>0.52</td>\n",
       "      <td>0.0</td>\n",
       "      <td>0.3</td>\n",
       "      <td>10.82</td>\n",
       "      <td>2.5</td>\n",
       "    </tr>\n",
       "    <tr>\n",
       "      <th>1478017</th>\n",
       "      <td>1</td>\n",
       "      <td>2020-01-09 08:22:30</td>\n",
       "      <td>2020-01-09 08:29:04</td>\n",
       "      <td>1</td>\n",
       "      <td>1.10</td>\n",
       "      <td>1</td>\n",
       "      <td>N</td>\n",
       "      <td>164</td>\n",
       "      <td>162</td>\n",
       "      <td>1.0</td>\n",
       "      <td>6.5</td>\n",
       "      <td>2.5</td>\n",
       "      <td>0.5</td>\n",
       "      <td>1.95</td>\n",
       "      <td>0.0</td>\n",
       "      <td>0.3</td>\n",
       "      <td>11.75</td>\n",
       "      <td>2.5</td>\n",
       "    </tr>\n",
       "  </tbody>\n",
       "</table>\n",
       "</div>"
      ],
      "text/plain": [
       "         VendorID tpep_pickup_datetime tpep_dropoff_datetime  passenger_count  \\\n",
       "3277675         2  2020-01-17 14:22:52   2020-01-17 14:30:41                2   \n",
       "86746           2  2020-01-01 12:37:41   2020-01-01 12:51:38                1   \n",
       "3103341         2  2020-01-16 19:30:54   2020-01-16 19:44:12                1   \n",
       "453379          1  2020-01-03 18:29:54   2020-01-03 18:35:40                2   \n",
       "1478017         1  2020-01-09 08:22:30   2020-01-09 08:29:04                1   \n",
       "\n",
       "         trip_distance  RatecodeID store_and_fwd_flag  PULocationID  \\\n",
       "3277675           1.28           1                  N           170   \n",
       "86746             3.05           1                  N           144   \n",
       "3103341           1.82           1                  N           236   \n",
       "453379            1.00           1                  N           141   \n",
       "1478017           1.10           1                  N           164   \n",
       "\n",
       "         DOLocationID  payment_type  fare_amount  extra  mta_tax  tip_amount  \\\n",
       "3277675           113           1.0          7.5    0.0      0.5        1.50   \n",
       "86746             164           2.0         12.5    0.0      0.5        0.00   \n",
       "3103341           238           1.0         10.5    1.0      0.5        1.00   \n",
       "453379            170           1.0          6.0    3.5      0.5        0.52   \n",
       "1478017           162           1.0          6.5    2.5      0.5        1.95   \n",
       "\n",
       "         tolls_amount  improvement_surcharge  total_amount  \\\n",
       "3277675           0.0                    0.3         12.30   \n",
       "86746             0.0                    0.3         15.80   \n",
       "3103341           0.0                    0.3         15.80   \n",
       "453379            0.0                    0.3         10.82   \n",
       "1478017           0.0                    0.3         11.75   \n",
       "\n",
       "         congestion_surcharge  \n",
       "3277675                   2.5  \n",
       "86746                     2.5  \n",
       "3103341                   2.5  \n",
       "453379                    2.5  \n",
       "1478017                   2.5  "
      ]
     },
     "execution_count": 7,
     "metadata": {},
     "output_type": "execute_result"
    }
   ],
   "source": [
    "df.head()"
   ]
  },
  {
   "cell_type": "code",
   "execution_count": 8,
   "id": "819adcc2-57d1-4af1-8bd8-72a8eedd6f08",
   "metadata": {},
   "outputs": [
    {
     "data": {
      "text/html": [
       "<div>\n",
       "<style scoped>\n",
       "    .dataframe tbody tr th:only-of-type {\n",
       "        vertical-align: middle;\n",
       "    }\n",
       "\n",
       "    .dataframe tbody tr th {\n",
       "        vertical-align: top;\n",
       "    }\n",
       "\n",
       "    .dataframe thead th {\n",
       "        text-align: right;\n",
       "    }\n",
       "</style>\n",
       "<table border=\"1\" class=\"dataframe\">\n",
       "  <thead>\n",
       "    <tr style=\"text-align: right;\">\n",
       "      <th></th>\n",
       "      <th>VendorID</th>\n",
       "      <th>passenger_count</th>\n",
       "      <th>trip_distance</th>\n",
       "      <th>RatecodeID</th>\n",
       "      <th>PULocationID</th>\n",
       "      <th>DOLocationID</th>\n",
       "      <th>payment_type</th>\n",
       "      <th>fare_amount</th>\n",
       "      <th>extra</th>\n",
       "      <th>mta_tax</th>\n",
       "      <th>tip_amount</th>\n",
       "      <th>tolls_amount</th>\n",
       "      <th>improvement_surcharge</th>\n",
       "      <th>total_amount</th>\n",
       "      <th>congestion_surcharge</th>\n",
       "    </tr>\n",
       "  </thead>\n",
       "  <tbody>\n",
       "    <tr>\n",
       "      <th>count</th>\n",
       "      <td>989898.000000</td>\n",
       "      <td>989898.000000</td>\n",
       "      <td>989898.000000</td>\n",
       "      <td>989898.000000</td>\n",
       "      <td>989898.000000</td>\n",
       "      <td>989898.000000</td>\n",
       "      <td>989898.000000</td>\n",
       "      <td>989898.000000</td>\n",
       "      <td>989898.000000</td>\n",
       "      <td>989898.000000</td>\n",
       "      <td>989898.000000</td>\n",
       "      <td>989898.000000</td>\n",
       "      <td>989898.000000</td>\n",
       "      <td>989898.000000</td>\n",
       "      <td>989898.000000</td>\n",
       "    </tr>\n",
       "    <tr>\n",
       "      <th>mean</th>\n",
       "      <td>1.670333</td>\n",
       "      <td>1.514719</td>\n",
       "      <td>2.850759</td>\n",
       "      <td>1.059378</td>\n",
       "      <td>164.976221</td>\n",
       "      <td>163.085505</td>\n",
       "      <td>1.270485</td>\n",
       "      <td>12.496063</td>\n",
       "      <td>1.096561</td>\n",
       "      <td>0.493769</td>\n",
       "      <td>2.211378</td>\n",
       "      <td>0.335096</td>\n",
       "      <td>0.297956</td>\n",
       "      <td>18.471614</td>\n",
       "      <td>2.297514</td>\n",
       "    </tr>\n",
       "    <tr>\n",
       "      <th>std</th>\n",
       "      <td>0.470093</td>\n",
       "      <td>1.151726</td>\n",
       "      <td>3.764111</td>\n",
       "      <td>0.765607</td>\n",
       "      <td>65.423864</td>\n",
       "      <td>69.744763</td>\n",
       "      <td>0.473912</td>\n",
       "      <td>11.798230</td>\n",
       "      <td>1.250206</td>\n",
       "      <td>0.067910</td>\n",
       "      <td>2.696905</td>\n",
       "      <td>1.816081</td>\n",
       "      <td>0.034177</td>\n",
       "      <td>14.511689</td>\n",
       "      <td>0.704266</td>\n",
       "    </tr>\n",
       "    <tr>\n",
       "      <th>min</th>\n",
       "      <td>1.000000</td>\n",
       "      <td>0.000000</td>\n",
       "      <td>-9.290000</td>\n",
       "      <td>1.000000</td>\n",
       "      <td>1.000000</td>\n",
       "      <td>1.000000</td>\n",
       "      <td>1.000000</td>\n",
       "      <td>-730.000000</td>\n",
       "      <td>-4.500000</td>\n",
       "      <td>-0.500000</td>\n",
       "      <td>-27.000000</td>\n",
       "      <td>-35.740000</td>\n",
       "      <td>-0.300000</td>\n",
       "      <td>-730.300000</td>\n",
       "      <td>-2.500000</td>\n",
       "    </tr>\n",
       "    <tr>\n",
       "      <th>25%</th>\n",
       "      <td>1.000000</td>\n",
       "      <td>1.000000</td>\n",
       "      <td>0.960000</td>\n",
       "      <td>1.000000</td>\n",
       "      <td>132.000000</td>\n",
       "      <td>113.000000</td>\n",
       "      <td>1.000000</td>\n",
       "      <td>6.500000</td>\n",
       "      <td>0.000000</td>\n",
       "      <td>0.500000</td>\n",
       "      <td>0.000000</td>\n",
       "      <td>0.000000</td>\n",
       "      <td>0.300000</td>\n",
       "      <td>11.160000</td>\n",
       "      <td>2.500000</td>\n",
       "    </tr>\n",
       "    <tr>\n",
       "      <th>50%</th>\n",
       "      <td>2.000000</td>\n",
       "      <td>1.000000</td>\n",
       "      <td>1.600000</td>\n",
       "      <td>1.000000</td>\n",
       "      <td>162.000000</td>\n",
       "      <td>162.000000</td>\n",
       "      <td>1.000000</td>\n",
       "      <td>9.000000</td>\n",
       "      <td>0.500000</td>\n",
       "      <td>0.500000</td>\n",
       "      <td>1.950000</td>\n",
       "      <td>0.000000</td>\n",
       "      <td>0.300000</td>\n",
       "      <td>14.160000</td>\n",
       "      <td>2.500000</td>\n",
       "    </tr>\n",
       "    <tr>\n",
       "      <th>75%</th>\n",
       "      <td>2.000000</td>\n",
       "      <td>2.000000</td>\n",
       "      <td>2.900000</td>\n",
       "      <td>1.000000</td>\n",
       "      <td>234.000000</td>\n",
       "      <td>234.000000</td>\n",
       "      <td>2.000000</td>\n",
       "      <td>13.500000</td>\n",
       "      <td>2.500000</td>\n",
       "      <td>0.500000</td>\n",
       "      <td>2.860000</td>\n",
       "      <td>0.000000</td>\n",
       "      <td>0.300000</td>\n",
       "      <td>19.560000</td>\n",
       "      <td>2.500000</td>\n",
       "    </tr>\n",
       "    <tr>\n",
       "      <th>max</th>\n",
       "      <td>2.000000</td>\n",
       "      <td>9.000000</td>\n",
       "      <td>262.880000</td>\n",
       "      <td>99.000000</td>\n",
       "      <td>265.000000</td>\n",
       "      <td>265.000000</td>\n",
       "      <td>4.000000</td>\n",
       "      <td>750.000000</td>\n",
       "      <td>13.500000</td>\n",
       "      <td>3.300000</td>\n",
       "      <td>300.880000</td>\n",
       "      <td>831.750000</td>\n",
       "      <td>0.300000</td>\n",
       "      <td>914.550000</td>\n",
       "      <td>2.750000</td>\n",
       "    </tr>\n",
       "  </tbody>\n",
       "</table>\n",
       "</div>"
      ],
      "text/plain": [
       "            VendorID  passenger_count  trip_distance     RatecodeID  \\\n",
       "count  989898.000000    989898.000000  989898.000000  989898.000000   \n",
       "mean        1.670333         1.514719       2.850759       1.059378   \n",
       "std         0.470093         1.151726       3.764111       0.765607   \n",
       "min         1.000000         0.000000      -9.290000       1.000000   \n",
       "25%         1.000000         1.000000       0.960000       1.000000   \n",
       "50%         2.000000         1.000000       1.600000       1.000000   \n",
       "75%         2.000000         2.000000       2.900000       1.000000   \n",
       "max         2.000000         9.000000     262.880000      99.000000   \n",
       "\n",
       "        PULocationID   DOLocationID   payment_type    fare_amount  \\\n",
       "count  989898.000000  989898.000000  989898.000000  989898.000000   \n",
       "mean      164.976221     163.085505       1.270485      12.496063   \n",
       "std        65.423864      69.744763       0.473912      11.798230   \n",
       "min         1.000000       1.000000       1.000000    -730.000000   \n",
       "25%       132.000000     113.000000       1.000000       6.500000   \n",
       "50%       162.000000     162.000000       1.000000       9.000000   \n",
       "75%       234.000000     234.000000       2.000000      13.500000   \n",
       "max       265.000000     265.000000       4.000000     750.000000   \n",
       "\n",
       "               extra        mta_tax     tip_amount   tolls_amount  \\\n",
       "count  989898.000000  989898.000000  989898.000000  989898.000000   \n",
       "mean        1.096561       0.493769       2.211378       0.335096   \n",
       "std         1.250206       0.067910       2.696905       1.816081   \n",
       "min        -4.500000      -0.500000     -27.000000     -35.740000   \n",
       "25%         0.000000       0.500000       0.000000       0.000000   \n",
       "50%         0.500000       0.500000       1.950000       0.000000   \n",
       "75%         2.500000       0.500000       2.860000       0.000000   \n",
       "max        13.500000       3.300000     300.880000     831.750000   \n",
       "\n",
       "       improvement_surcharge   total_amount  congestion_surcharge  \n",
       "count          989898.000000  989898.000000         989898.000000  \n",
       "mean                0.297956      18.471614              2.297514  \n",
       "std                 0.034177      14.511689              0.704266  \n",
       "min                -0.300000    -730.300000             -2.500000  \n",
       "25%                 0.300000      11.160000              2.500000  \n",
       "50%                 0.300000      14.160000              2.500000  \n",
       "75%                 0.300000      19.560000              2.500000  \n",
       "max                 0.300000     914.550000              2.750000  "
      ]
     },
     "execution_count": 8,
     "metadata": {},
     "output_type": "execute_result"
    }
   ],
   "source": [
    "df.describe()"
   ]
  },
  {
   "cell_type": "markdown",
   "id": "6758da08-4491-4a44-b163-8a442be0c201",
   "metadata": {},
   "source": [
    "# plot distributions"
   ]
  },
  {
   "cell_type": "markdown",
   "id": "024bc38c-dd12-4469-9cb3-bf7b9507e800",
   "metadata": {},
   "source": [
    "- trip_distance, fare_amount, total_amount"
   ]
  },
  {
   "cell_type": "markdown",
   "id": "96eea493-e3a1-4953-aaed-00de773bce55",
   "metadata": {},
   "source": [
    "## distance"
   ]
  },
  {
   "cell_type": "code",
   "execution_count": 17,
   "id": "c196ab8f-cbfc-446f-b876-b4e742bccc9d",
   "metadata": {},
   "outputs": [
    {
     "data": {
      "text/plain": [
       "<AxesSubplot:ylabel='trip_distance'>"
      ]
     },
     "execution_count": 17,
     "metadata": {},
     "output_type": "execute_result"
    },
    {
     "data": {
      "image/png": "[encoded data removed]",
      "text/plain": [
       "<Figure size 432x288 with 1 Axes>"
      ]
     },
     "metadata": {
      "needs_background": "light"
     },
     "output_type": "display_data"
    }
   ],
   "source": [
    "# the min of destance is negative .!\n",
    "# distance \n",
    "sns.boxplot(data=df,y='trip_distance')"
   ]
  },
  {
   "cell_type": "code",
   "execution_count": 20,
   "id": "8a408446-76cf-4526-afcd-6fc193d92319",
   "metadata": {},
   "outputs": [
    {
     "data": {
      "text/plain": [
       "(-9.29, 262.88)"
      ]
     },
     "execution_count": 20,
     "metadata": {},
     "output_type": "execute_result"
    }
   ],
   "source": [
    "df.trip_distance.min() , df.trip_distance.max()"
   ]
  },
  {
   "cell_type": "code",
   "execution_count": 24,
   "id": "a94323c2-3256-4adf-8c02-b8949224e8f3",
   "metadata": {},
   "outputs": [
    {
     "data": {
      "text/html": [
       "<div>\n",
       "<style scoped>\n",
       "    .dataframe tbody tr th:only-of-type {\n",
       "        vertical-align: middle;\n",
       "    }\n",
       "\n",
       "    .dataframe tbody tr th {\n",
       "        vertical-align: top;\n",
       "    }\n",
       "\n",
       "    .dataframe thead th {\n",
       "        text-align: right;\n",
       "    }\n",
       "</style>\n",
       "<table border=\"1\" class=\"dataframe\">\n",
       "  <thead>\n",
       "    <tr style=\"text-align: right;\">\n",
       "      <th></th>\n",
       "      <th>VendorID</th>\n",
       "      <th>tpep_pickup_datetime</th>\n",
       "      <th>tpep_dropoff_datetime</th>\n",
       "      <th>passenger_count</th>\n",
       "      <th>trip_distance</th>\n",
       "      <th>RatecodeID</th>\n",
       "      <th>store_and_fwd_flag</th>\n",
       "      <th>PULocationID</th>\n",
       "      <th>DOLocationID</th>\n",
       "      <th>payment_type</th>\n",
       "      <th>fare_amount</th>\n",
       "      <th>extra</th>\n",
       "      <th>mta_tax</th>\n",
       "      <th>tip_amount</th>\n",
       "      <th>tolls_amount</th>\n",
       "      <th>improvement_surcharge</th>\n",
       "      <th>total_amount</th>\n",
       "      <th>congestion_surcharge</th>\n",
       "    </tr>\n",
       "  </thead>\n",
       "  <tbody>\n",
       "    <tr>\n",
       "      <th>1779382</th>\n",
       "      <td>2</td>\n",
       "      <td>2020-01-10 15:52:10</td>\n",
       "      <td>2020-01-10 16:00:22</td>\n",
       "      <td>1</td>\n",
       "      <td>-1.44</td>\n",
       "      <td>5</td>\n",
       "      <td>N</td>\n",
       "      <td>193</td>\n",
       "      <td>145</td>\n",
       "      <td>1.0</td>\n",
       "      <td>10.20</td>\n",
       "      <td>0.0</td>\n",
       "      <td>0.5</td>\n",
       "      <td>1.65</td>\n",
       "      <td>0.00</td>\n",
       "      <td>0.3</td>\n",
       "      <td>14.60</td>\n",
       "      <td>0.0</td>\n",
       "    </tr>\n",
       "    <tr>\n",
       "      <th>787926</th>\n",
       "      <td>2</td>\n",
       "      <td>2020-01-05 15:36:50</td>\n",
       "      <td>2020-01-05 16:07:07</td>\n",
       "      <td>1</td>\n",
       "      <td>-9.29</td>\n",
       "      <td>5</td>\n",
       "      <td>N</td>\n",
       "      <td>225</td>\n",
       "      <td>233</td>\n",
       "      <td>2.0</td>\n",
       "      <td>21.41</td>\n",
       "      <td>0.0</td>\n",
       "      <td>0.5</td>\n",
       "      <td>0.00</td>\n",
       "      <td>12.24</td>\n",
       "      <td>0.3</td>\n",
       "      <td>34.45</td>\n",
       "      <td>0.0</td>\n",
       "    </tr>\n",
       "  </tbody>\n",
       "</table>\n",
       "</div>"
      ],
      "text/plain": [
       "         VendorID tpep_pickup_datetime tpep_dropoff_datetime  passenger_count  \\\n",
       "1779382         2  2020-01-10 15:52:10   2020-01-10 16:00:22                1   \n",
       "787926          2  2020-01-05 15:36:50   2020-01-05 16:07:07                1   \n",
       "\n",
       "         trip_distance  RatecodeID store_and_fwd_flag  PULocationID  \\\n",
       "1779382          -1.44           5                  N           193   \n",
       "787926           -9.29           5                  N           225   \n",
       "\n",
       "         DOLocationID  payment_type  fare_amount  extra  mta_tax  tip_amount  \\\n",
       "1779382           145           1.0        10.20    0.0      0.5        1.65   \n",
       "787926            233           2.0        21.41    0.0      0.5        0.00   \n",
       "\n",
       "         tolls_amount  improvement_surcharge  total_amount  \\\n",
       "1779382          0.00                    0.3         14.60   \n",
       "787926          12.24                    0.3         34.45   \n",
       "\n",
       "         congestion_surcharge  \n",
       "1779382                   0.0  \n",
       "787926                    0.0  "
      ]
     },
     "execution_count": 24,
     "metadata": {},
     "output_type": "execute_result"
    }
   ],
   "source": [
    "df[df[\"trip_distance\"] < 0]"
   ]
  },
  {
   "cell_type": "markdown",
   "id": "66b62026-a57c-4523-badb-83c7ae34373b",
   "metadata": {},
   "source": [
    " ### we have some problems with distance:\n",
    "    - outlier in min and max\n",
    "    - negative numbers\n",
    "    - big std"
   ]
  },
  {
   "cell_type": "markdown",
   "id": "ca793721-b57d-4dc5-80d0-c53b1c2bf0bf",
   "metadata": {},
   "source": [
    "## fare_amount"
   ]
  },
  {
   "cell_type": "code",
   "execution_count": 136,
   "id": "9b8dc4a3-4007-46a2-8068-7f5b3a3c39bc",
   "metadata": {},
   "outputs": [
    {
     "data": {
      "text/plain": [
       "<AxesSubplot:ylabel='fare_amount'>"
      ]
     },
     "execution_count": 136,
     "metadata": {},
     "output_type": "execute_result"
    },
    {
     "data": {
      "image/png": "[encoded data removed]",
      "text/plain": [
       "<Figure size 432x288 with 1 Axes>"
      ]
     },
     "metadata": {
      "needs_background": "light"
     },
     "output_type": "display_data"
    }
   ],
   "source": [
    "sns.boxplot(data=df,y='fare_amount')"
   ]
  },
  {
   "cell_type": "code",
   "execution_count": 138,
   "id": "92aea7b5-69e0-4693-b6d4-41000022490d",
   "metadata": {},
   "outputs": [
    {
     "data": {
      "text/plain": [
       "VendorID                 3076\n",
       "tpep_pickup_datetime     3076\n",
       "tpep_dropoff_datetime    3076\n",
       "passenger_count          3076\n",
       "trip_distance            3076\n",
       "RatecodeID               3076\n",
       "store_and_fwd_flag       3076\n",
       "PULocationID             3076\n",
       "DOLocationID             3076\n",
       "payment_type             3076\n",
       "fare_amount              3076\n",
       "extra                    3076\n",
       "mta_tax                  3076\n",
       "tip_amount               3076\n",
       "tolls_amount             3076\n",
       "improvement_surcharge    3076\n",
       "total_amount             3076\n",
       "congestion_surcharge     3076\n",
       "trip_time                3076\n",
       "dtype: int64"
      ]
     },
     "execution_count": 138,
     "metadata": {},
     "output_type": "execute_result"
    }
   ],
   "source": [
    "df[df[\"fare_amount\"] < 0].count()"
   ]
  },
  {
   "cell_type": "markdown",
   "id": "3d4641de-e5bc-477b-b8d1-107207c46c1b",
   "metadata": {},
   "source": [
    "> 3076 have negative numbers .!"
   ]
  },
  {
   "cell_type": "code",
   "execution_count": 139,
   "id": "b7947737-07f0-401e-bbe2-d3c8c53dc90c",
   "metadata": {},
   "outputs": [
    {
     "data": {
      "text/plain": [
       "9.0"
      ]
     },
     "execution_count": 139,
     "metadata": {},
     "output_type": "execute_result"
    }
   ],
   "source": [
    "df.fare_amount.median()"
   ]
  },
  {
   "cell_type": "code",
   "execution_count": null,
   "id": "bbcae4e2-70a5-42d0-9c48-30116cf2593c",
   "metadata": {},
   "outputs": [
    {
     "name": "stderr",
     "output_type": "stream",
     "text": [
      "C:\\Users\\Lenovo\\anaconda3\\lib\\site-packages\\seaborn\\distributions.py:2619: FutureWarning: `distplot` is a deprecated function and will be removed in a future version. Please adapt your code to use either `displot` (a figure-level function with similar flexibility) or `histplot` (an axes-level function for histograms).\n",
      "  warnings.warn(msg, FutureWarning)\n"
     ]
    },
    {
     "data": {
      "image/png": "[encoded data removed]",
      "text/plain": [
       "<Figure size 432x288 with 1 Axes>"
      ]
     },
     "metadata": {
      "needs_background": "light"
     },
     "output_type": "display_data"
    }
   ],
   "source": [
    "sns.distplot(df.fare_amount);\n",
    "\n",
    "\n",
    "# Add title and axis names\n",
    "plt.title('amount per trip')\n",
    "plt.xlabel('amount ')\n",
    "plt.ylabel('count')\n",
    "\n",
    "# plot\n",
    "plt.show()"
   ]
  },
  {
   "cell_type": "code",
   "execution_count": 145,
   "id": "c0a89b91-acdb-4995-b549-6d953e13fe58",
   "metadata": {},
   "outputs": [
    {
     "data": {
      "image/png": "[encoded data removed]",
      "text/plain": [
       "<Figure size 432x288 with 1 Axes>"
      ]
     },
     "metadata": {
      "needs_background": "light"
     },
     "output_type": "display_data"
    }
   ],
   "source": [
    "df.fare_amount.hist(bins=20,range=(0, 70))\n",
    "\n",
    "\n",
    "# Add title and axis names\n",
    "plt.title('amount per trip')\n",
    "plt.xlabel('amount ')\n",
    "plt.ylabel('count')\n",
    "\n",
    "# plot\n",
    "plt.show()"
   ]
  },
  {
   "cell_type": "markdown",
   "id": "41d71121-9d71-4cb5-990d-8be908ea31d4",
   "metadata": {},
   "source": [
    "> most of pepole ranged from 0 to 80 doller"
   ]
  },
  {
   "cell_type": "code",
   "execution_count": 149,
   "id": "a4aa7591-7018-4e1b-bd59-302418c16fcb",
   "metadata": {},
   "outputs": [
    {
     "data": {
      "text/plain": [
       "VendorID                 8016\n",
       "tpep_pickup_datetime     8016\n",
       "tpep_dropoff_datetime    8016\n",
       "passenger_count          8016\n",
       "trip_distance            8016\n",
       "RatecodeID               8016\n",
       "store_and_fwd_flag       8016\n",
       "PULocationID             8016\n",
       "DOLocationID             8016\n",
       "payment_type             8016\n",
       "fare_amount              8016\n",
       "extra                    8016\n",
       "mta_tax                  8016\n",
       "tip_amount               8016\n",
       "tolls_amount             8016\n",
       "improvement_surcharge    8016\n",
       "total_amount             8016\n",
       "congestion_surcharge     8016\n",
       "trip_time                8016\n",
       "dtype: int64"
      ]
     },
     "execution_count": 149,
     "metadata": {},
     "output_type": "execute_result"
    }
   ],
   "source": [
    "df[df['fare_amount'] > 55 ].count()"
   ]
  },
  {
   "cell_type": "code",
   "execution_count": 153,
   "id": "488f9211-cb30-4a3a-a239-1e6eaf641c0c",
   "metadata": {},
   "outputs": [
    {
     "data": {
      "text/plain": [
       "3076"
      ]
     },
     "execution_count": 153,
     "metadata": {},
     "output_type": "execute_result"
    }
   ],
   "source": [
    "df[df['fare_amount'] < 0 ].count()[1]"
   ]
  },
  {
   "cell_type": "code",
   "execution_count": 151,
   "id": "24f93895-86ee-4c77-a6a2-553287484034",
   "metadata": {},
   "outputs": [
    {
     "data": {
      "text/plain": [
       "989898"
      ]
     },
     "execution_count": 151,
     "metadata": {},
     "output_type": "execute_result"
    }
   ],
   "source": [
    "df['fare_amount'].count()"
   ]
  },
  {
   "cell_type": "code",
   "execution_count": 158,
   "id": "8c1bb813-9a1a-4b35-9df7-24d07cb65fe5",
   "metadata": {},
   "outputs": [
    {
     "data": {
      "text/plain": [
       "count    951721.000000\n",
       "mean         10.940081\n",
       "std           7.223957\n",
       "min           0.010000\n",
       "25%           6.500000\n",
       "50%           8.500000\n",
       "75%          13.000000\n",
       "max          49.700000\n",
       "Name: fare_amount, dtype: float64"
      ]
     },
     "execution_count": 158,
     "metadata": {},
     "output_type": "execute_result"
    }
   ],
   "source": [
    "df[((df['fare_amount'] > 0)  & (df['fare_amount'] < 50 ))]['fare_amount'].describe()"
   ]
  },
  {
   "cell_type": "code",
   "execution_count": 155,
   "id": "07a4a753-5ff9-4d0e-991c-c0e49f874888",
   "metadata": {},
   "outputs": [
    {
     "data": {
      "text/plain": [
       "VendorID                 11092\n",
       "tpep_pickup_datetime     11092\n",
       "tpep_dropoff_datetime    11092\n",
       "passenger_count          11092\n",
       "trip_distance            11092\n",
       "RatecodeID               11092\n",
       "store_and_fwd_flag       11092\n",
       "PULocationID             11092\n",
       "DOLocationID             11092\n",
       "payment_type             11092\n",
       "fare_amount              11092\n",
       "extra                    11092\n",
       "mta_tax                  11092\n",
       "tip_amount               11092\n",
       "tolls_amount             11092\n",
       "improvement_surcharge    11092\n",
       "total_amount             11092\n",
       "congestion_surcharge     11092\n",
       "trip_time                11092\n",
       "dtype: int64"
      ]
     },
     "execution_count": 155,
     "metadata": {},
     "output_type": "execute_result"
    }
   ],
   "source": [
    "df[((df['fare_amount'] < 0)  | (df['fare_amount'] > 55 ))].count()"
   ]
  },
  {
   "cell_type": "markdown",
   "id": "be6ef7f8-3083-4a5d-b2e8-f2683db2d525",
   "metadata": {},
   "source": [
    "> we can take all the out of this range as outlier"
   ]
  },
  {
   "cell_type": "markdown",
   "id": "1ef16aaf-c67e-4db7-bf3b-c2705153de5c",
   "metadata": {},
   "source": [
    "## time"
   ]
  },
  {
   "cell_type": "code",
   "execution_count": 105,
   "id": "614a627a-bcaa-4ce9-b4f7-000be00f77d3",
   "metadata": {},
   "outputs": [],
   "source": [
    "time_expand =  df.tpep_dropoff_datetime -  df.tpep_pickup_datetime"
   ]
  },
  {
   "cell_type": "code",
   "execution_count": 108,
   "id": "03f5f2f3-0c33-4e46-b060-73634a881f46",
   "metadata": {},
   "outputs": [],
   "source": [
    "time_expand = time_expand.dt.total_seconds()"
   ]
  },
  {
   "cell_type": "code",
   "execution_count": 117,
   "id": "06d44a68-c323-4ea7-a3f0-efd084fb5bf5",
   "metadata": {},
   "outputs": [
    {
     "data": {
      "text/plain": [
       "count    989898.000000\n",
       "mean        946.113512\n",
       "std        3765.778305\n",
       "min           0.000000\n",
       "25%         380.000000\n",
       "50%         624.000000\n",
       "75%         999.000000\n",
       "max       86380.000000\n",
       "dtype: float64"
      ]
     },
     "execution_count": 117,
     "metadata": {},
     "output_type": "execute_result"
    }
   ],
   "source": [
    "time_expand.describe()"
   ]
  },
  {
   "cell_type": "code",
   "execution_count": 125,
   "id": "b3e6aa55-6906-43b0-badc-4162b0f18dc3",
   "metadata": {},
   "outputs": [
    {
     "data": {
      "image/png": "[encoded data removed]",
      "text/plain": [
       "<Figure size 432x288 with 1 Axes>"
      ]
     },
     "metadata": {
      "needs_background": "light"
     },
     "output_type": "display_data"
    }
   ],
   "source": [
    "time_expand.hist(bins=20,range=(0, 5000))\n",
    "\n",
    "\n",
    "# Add title and axis names\n",
    "plt.title('time by minutes in each trip')\n",
    "plt.xlabel('minutes ')\n",
    "plt.ylabel('count')\n",
    "\n",
    "# plot\n",
    "plt.show()"
   ]
  },
  {
   "cell_type": "markdown",
   "id": "460a1f84-ca54-4934-a413-edea30321676",
   "metadata": {},
   "source": [
    "> big standard deveation > we need to treat with outlier again"
   ]
  },
  {
   "cell_type": "code",
   "execution_count": 118,
   "id": "3f7d3902-d0c7-4fda-87a9-7cfdd15bfaa5",
   "metadata": {},
   "outputs": [],
   "source": [
    "# fare_amount >> we will reuren to it leter"
   ]
  },
  {
   "cell_type": "markdown",
   "id": "e11c345f-670f-4884-9bc9-e2d42b93e179",
   "metadata": {},
   "source": [
    "# correlation"
   ]
  },
  {
   "cell_type": "code",
   "execution_count": 132,
   "id": "d1e336f0-f27b-4c2e-b7d8-e997467f3d84",
   "metadata": {},
   "outputs": [],
   "source": [
    "# add time expand in the datafram\n",
    "df[\"trip_time\"] = time_expand"
   ]
  },
  {
   "cell_type": "code",
   "execution_count": 133,
   "id": "84c5e254-10f4-4833-8e19-b917df2044ed",
   "metadata": {},
   "outputs": [
    {
     "data": {
      "text/plain": [
       "<AxesSubplot:>"
      ]
     },
     "execution_count": 133,
     "metadata": {},
     "output_type": "execute_result"
    },
    {
     "data": {
      "image/png": "[encoded data removed]",
      "text/plain": [
       "<Figure size 432x288 with 2 Axes>"
      ]
     },
     "metadata": {
      "needs_background": "light"
     },
     "output_type": "display_data"
    }
   ],
   "source": [
    "sns.heatmap(df.corr())"
   ]
  },
  {
   "cell_type": "code",
   "execution_count": 135,
   "id": "f95f7883-5e69-4be8-959c-48bdfaeba153",
   "metadata": {},
   "outputs": [
    {
     "data": {
      "image/png": "[encoded data removed]",
      "text/plain": [
       "<Figure size 1152x432 with 2 Axes>"
      ]
     },
     "metadata": {
      "needs_background": "light"
     },
     "output_type": "display_data"
    }
   ],
   "source": [
    "plt.figure(figsize=(16, 6))\n",
    "# define the mask to set the values in the upper triangle to True\n",
    "mask = np.triu(np.ones_like(df.corr(), dtype=np.bool_))\n",
    "heatmap = sns.heatmap(df.corr(), mask=mask, vmin=-1, vmax=1, annot=True, cmap='BrBG')\n",
    "heatmap.set_title('Triangle Correlation Heatmap', fontdict={'fontsize':18}, pad=16);"
   ]
  },
  {
   "cell_type": "markdown",
   "id": "aa33b7b2-7b09-4a2e-822a-05bbabc2de61",
   "metadata": {},
   "source": [
    "> we have some confusion with the time should be postive correlated like distance"
   ]
  },
  {
   "cell_type": "code",
   "execution_count": null,
   "id": "d88f8fc5-09b0-487e-b7d9-ef13dd8f8cd7",
   "metadata": {},
   "outputs": [],
   "source": []
  }
 ],
 "metadata": {
  "kernelspec": {
   "display_name": "Python 3 (ipykernel)",
   "language": "python",
   "name": "python3"
  },
  "language_info": {
   "codemirror_mode": {
    "name": "ipython",
    "version": 3
   },
   "file_extension": ".py",
   "mimetype": "text/x-python",
   "name": "python",
   "nbconvert_exporter": "python",
   "pygments_lexer": "ipython3",
   "version": "3.9.7"
  }
 },
 "nbformat": 4,
 "nbformat_minor": 5
}
