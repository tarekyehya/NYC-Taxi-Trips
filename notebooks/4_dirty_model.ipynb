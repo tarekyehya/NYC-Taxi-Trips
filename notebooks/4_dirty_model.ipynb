{
 "cells": [
  {
   "cell_type": "code",
   "execution_count": 3,
   "id": "4ab62bf8-397d-4a41-a805-9a41080965c4",
   "metadata": {},
   "outputs": [],
   "source": [
    "# constant\n",
    "DF_PATH = \"../data/processed/2_feed_model.pkl\""
   ]
  },
  {
   "cell_type": "code",
   "execution_count": 4,
   "id": "b2697c65-6f6a-431e-965e-033ae797417c",
   "metadata": {},
   "outputs": [],
   "source": [
    "import pandas as pd\n",
    "import numpy as np\n",
    "import matplotlib.pyplot as plt\n",
    "import seaborn as sns\n",
    "import os "
   ]
  },
  {
   "cell_type": "code",
   "execution_count": 6,
   "id": "ff1eb0c6-6006-47cd-9e60-e91e786fd783",
   "metadata": {},
   "outputs": [],
   "source": [
    "# Read Data \n",
    "df = pd.read_pickle(DF_PATH)"
   ]
  },
  {
   "cell_type": "markdown",
   "id": "5e55ba4b-b509-49d9-a4ec-f1653cb31764",
   "metadata": {},
   "source": [
    "# MODEL"
   ]
  },
  {
   "cell_type": "code",
   "execution_count": null,
   "id": "17509451-9b89-4c4c-b71b-fd3953fa1260",
   "metadata": {},
   "outputs": [],
   "source": []
  }
 ],
 "metadata": {
  "kernelspec": {
   "display_name": "Python 3 (ipykernel)",
   "language": "python",
   "name": "python3"
  },
  "language_info": {
   "codemirror_mode": {
    "name": "ipython",
    "version": 3
   },
   "file_extension": ".py",
   "mimetype": "text/x-python",
   "name": "python",
   "nbconvert_exporter": "python",
   "pygments_lexer": "ipython3",
   "version": "3.9.7"
  }
 },
 "nbformat": 4,
 "nbformat_minor": 5
}
