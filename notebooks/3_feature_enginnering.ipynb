{
 "cells": [
  {
   "cell_type": "code",
   "execution_count": 1,
   "id": "eb1f32f6-838e-4aaf-8425-072de9175cbb",
   "metadata": {},
   "outputs": [],
   "source": [
    "# constant\n",
    "DF_PATH = \"../data/processed/1_preprocessed_df.pkl\"\n",
    "EXPORT_PATH = \"../data/processed/2_feed_model.pkl\""
   ]
  },
  {
   "cell_type": "code",
   "execution_count": 2,
   "id": "34b395ec-2b8e-4362-b266-0fedcf75c88f",
   "metadata": {},
   "outputs": [],
   "source": [
    "import pandas as pd\n",
    "import numpy as np\n",
    "import matplotlib.pyplot as plt\n",
    "import seaborn as sns\n",
    "import os "
   ]
  },
  {
   "cell_type": "code",
   "execution_count": 3,
   "id": "c05ad0d5-584c-44b6-a495-0df263d281ec",
   "metadata": {},
   "outputs": [],
   "source": [
    "# Read Data \n",
    "df = pd.read_pickle(DF_PATH)"
   ]
  },
  {
   "cell_type": "markdown",
   "id": "933db3e5-4924-4371-a7fc-2d9766b108cd",
   "metadata": {},
   "source": [
    "# what features we will feed to our model ?"
   ]
  },
  {
   "cell_type": "code",
   "execution_count": 4,
   "id": "dd532628-a5c2-429f-8890-894a32a96aae",
   "metadata": {},
   "outputs": [
    {
     "data": {
      "text/plain": [
       "Index(['VendorID', 'tpep_pickup_datetime', 'tpep_dropoff_datetime',\n",
       "       'passenger_count', 'trip_distance', 'RatecodeID', 'store_and_fwd_flag',\n",
       "       'PULocationID', 'DOLocationID', 'payment_type', 'fare_amount', 'extra',\n",
       "       'mta_tax', 'tip_amount', 'tolls_amount', 'improvement_surcharge',\n",
       "       'total_amount', 'congestion_surcharge'],\n",
       "      dtype='object')"
      ]
     },
     "execution_count": 4,
     "metadata": {},
     "output_type": "execute_result"
    }
   ],
   "source": [
    "df.columns"
   ]
  },
  {
   "cell_type": "markdown",
   "id": "42a40777-db02-4963-b075-6c543e5830e4",
   "metadata": {},
   "source": [
    "> we can start with :  trip_distance, tpep_pickup_datetime, tpep_dropoff_datetime"
   ]
  },
  {
   "cell_type": "markdown",
   "id": "959de65e-f9b2-42ba-aeac-bb16a102d569",
   "metadata": {},
   "source": [
    "## distance"
   ]
  },
  {
   "cell_type": "code",
   "execution_count": 5,
   "id": "faef3ec7-c26e-4c57-a2b9-76b228adc339",
   "metadata": {},
   "outputs": [],
   "source": [
    "df = df[(df[\"trip_distance\"] < 23) &  (df[\"trip_distance\"] > 0)]"
   ]
  },
  {
   "cell_type": "markdown",
   "id": "6d007387-42ad-4833-9a32-7727e047c70e",
   "metadata": {},
   "source": [
    "> drop outliers for distance"
   ]
  },
  {
   "cell_type": "markdown",
   "id": "aac8f38c-7d28-46c8-952e-7e560381fdbb",
   "metadata": {},
   "source": [
    "# time"
   ]
  },
  {
   "cell_type": "markdown",
   "id": "4eadf5a3-a372-4966-8278-9d05a940a5a1",
   "metadata": {},
   "source": [
    "> tpep_pickup_datetime and tpep_dropoff_datetime"
   ]
  },
  {
   "cell_type": "code",
   "execution_count": 6,
   "id": "92aeef8e-9c14-467d-914e-25c25a822b6d",
   "metadata": {},
   "outputs": [],
   "source": [
    "time_expand =  df.tpep_dropoff_datetime -  df.tpep_pickup_datetime\n"
   ]
  },
  {
   "cell_type": "code",
   "execution_count": 7,
   "id": "0ee5c2b4-54cd-451e-8c29-15a0192a4556",
   "metadata": {},
   "outputs": [],
   "source": [
    "time_expand = time_expand.dt.total_seconds() # time delta\n",
    "df[\"trip_time\"] = time_expand / 60 # minutes"
   ]
  },
  {
   "cell_type": "code",
   "execution_count": 8,
   "id": "8874581d-32ef-4a36-affe-fe3a4bff8cb7",
   "metadata": {},
   "outputs": [
    {
     "data": {
      "image/png": "[encoded data removed]",
      "text/plain": [
       "<Figure size 432x288 with 1 Axes>"
      ]
     },
     "metadata": {
      "needs_background": "light"
     },
     "output_type": "display_data"
    }
   ],
   "source": [
    "plt.hist(df[\"trip_time\"],bins=20,range=(0, 70));"
   ]
  },
  {
   "cell_type": "code",
   "execution_count": 9,
   "id": "084ba79b-39d7-4cab-b536-2c90d096c52f",
   "metadata": {},
   "outputs": [
    {
     "data": {
      "text/plain": [
       "7309"
      ]
     },
     "execution_count": 9,
     "metadata": {},
     "output_type": "execute_result"
    }
   ],
   "source": [
    "df[(df[\"trip_time\"] > 55) |  (df[\"trip_time\"] < 0)].count()[1]"
   ]
  },
  {
   "cell_type": "code",
   "execution_count": 10,
   "id": "f8ae7e83-9cd6-4d52-9a9d-71c5805e161c",
   "metadata": {},
   "outputs": [],
   "source": [
    "df = df[(df[\"trip_time\"] < 55) &  (df[\"trip_time\"] > 0)]"
   ]
  },
  {
   "cell_type": "code",
   "execution_count": 11,
   "id": "ad0d0091-5ec4-4067-8519-8178ef078abd",
   "metadata": {},
   "outputs": [
    {
     "data": {
      "text/plain": [
       "(969954, 19)"
      ]
     },
     "execution_count": 11,
     "metadata": {},
     "output_type": "execute_result"
    }
   ],
   "source": [
    "df.shape"
   ]
  },
  {
   "cell_type": "markdown",
   "id": "f067b0b5-b8f4-4c98-a07c-cf9455d1f8ec",
   "metadata": {},
   "source": [
    "## fare amonut"
   ]
  },
  {
   "cell_type": "code",
   "execution_count": 12,
   "id": "d1321ca6-55c0-4e13-b05b-56d1bbd3ee34",
   "metadata": {},
   "outputs": [
    {
     "data": {
      "text/plain": [
       "27840"
      ]
     },
     "execution_count": 12,
     "metadata": {},
     "output_type": "execute_result"
    }
   ],
   "source": [
    "df[(df[\"fare_amount\"] > 50) |  (df[\"fare_amount\"] < 0)].count()[1]"
   ]
  },
  {
   "cell_type": "code",
   "execution_count": 13,
   "id": "32a63207-0182-4a65-9972-b6b1ceaafbd5",
   "metadata": {},
   "outputs": [
    {
     "data": {
      "text/plain": [
       "count    962868.000000\n",
       "mean         11.785585\n",
       "std           9.249235\n",
       "min           0.010000\n",
       "25%           6.500000\n",
       "50%           9.000000\n",
       "75%          13.500000\n",
       "max          54.800000\n",
       "Name: fare_amount, dtype: float64"
      ]
     },
     "execution_count": 13,
     "metadata": {},
     "output_type": "execute_result"
    }
   ],
   "source": [
    "df[((df['fare_amount'] > 0)  & (df['fare_amount'] < 55 ))]['fare_amount'].describe()"
   ]
  },
  {
   "cell_type": "code",
   "execution_count": 14,
   "id": "1624b5c0-d630-4185-8161-566ee23cf083",
   "metadata": {},
   "outputs": [
    {
     "data": {
      "text/plain": [
       "count    941617.000000\n",
       "mean         10.878046\n",
       "std           7.082170\n",
       "min           0.010000\n",
       "25%           6.500000\n",
       "50%           8.500000\n",
       "75%          13.000000\n",
       "max          49.700000\n",
       "Name: fare_amount, dtype: float64"
      ]
     },
     "execution_count": 14,
     "metadata": {},
     "output_type": "execute_result"
    }
   ],
   "source": [
    "df[((df['fare_amount'] > 0)  & (df['fare_amount'] < 50 ))]['fare_amount'].describe()"
   ]
  },
  {
   "cell_type": "markdown",
   "id": "02dbdb44-f6fd-460c-bcd6-6c6b4711f984",
   "metadata": {},
   "source": [
    "> with 50 as maximum we have more less STD"
   ]
  },
  {
   "cell_type": "code",
   "execution_count": 15,
   "id": "4afa27ed-1474-4a37-8145-52a000d3eab4",
   "metadata": {},
   "outputs": [],
   "source": [
    "df = df[((df['fare_amount'] > 0)  & (df['fare_amount'] < 50 ))]"
   ]
  },
  {
   "cell_type": "code",
   "execution_count": 18,
   "id": "ab2a7095-767f-4d46-b31a-3c0c95cb2207",
   "metadata": {},
   "outputs": [
    {
     "data": {
      "text/plain": [
       "(941617, 19)"
      ]
     },
     "execution_count": 18,
     "metadata": {},
     "output_type": "execute_result"
    }
   ],
   "source": [
    "df.shape"
   ]
  },
  {
   "cell_type": "markdown",
   "id": "3216cbd6-aded-4d0e-a6e5-184f1a6c38bd",
   "metadata": {},
   "source": [
    "## save data frame"
   ]
  },
  {
   "cell_type": "code",
   "execution_count": 19,
   "id": "29792877-7b68-4db2-9df4-d72a9b5b71cf",
   "metadata": {},
   "outputs": [],
   "source": [
    "df.to_pickle(EXPORT_PATH)"
   ]
  }
 ],
 "metadata": {
  "kernelspec": {
   "display_name": "Python 3 (ipykernel)",
   "language": "python",
   "name": "python3"
  },
  "language_info": {
   "codemirror_mode": {
    "name": "ipython",
    "version": 3
   },
   "file_extension": ".py",
   "mimetype": "text/x-python",
   "name": "python",
   "nbconvert_exporter": "python",
   "pygments_lexer": "ipython3",
   "version": "3.9.7"
  }
 },
 "nbformat": 4,
 "nbformat_minor": 5
}
