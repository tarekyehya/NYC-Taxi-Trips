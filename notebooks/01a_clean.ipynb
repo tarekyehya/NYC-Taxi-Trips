{
 "cells": [
  {
   "cell_type": "code",
   "execution_count": 1,
   "id": "8c580689-45c9-4a8a-a89a-ce6af228d065",
   "metadata": {},
   "outputs": [],
   "source": [
    "# Constants\n",
    "raw_path = \"../data/raw/yellow_tripdata_2020-01.csv\"\n",
    "EXPORT_PATH = \"../data/processed/1_preprocessed_df.pkl\""
   ]
  },
  {
   "cell_type": "code",
   "execution_count": 15,
   "id": "a8b54c2a-4862-4738-941e-c80618b1e9e5",
   "metadata": {},
   "outputs": [],
   "source": [
    "import pandas as pd\n",
    "import numpy as np\n",
    "import matplotlib.pyplot as plt\n",
    "import seaborn as sns\n",
    "import os \n",
    "import logging\n",
    "import pickle"
   ]
  },
  {
   "cell_type": "code",
   "execution_count": 4,
   "id": "0aac1ace-e69d-4a56-acf1-216a24625874",
   "metadata": {},
   "outputs": [
    {
     "name": "stderr",
     "output_type": "stream",
     "text": [
      "C:\\Users\\Lenovo\\anaconda3\\lib\\site-packages\\IPython\\core\\interactiveshell.py:3444: DtypeWarning: Columns (6) have mixed types.Specify dtype option on import or set low_memory=False.\n",
      "  exec(code_obj, self.user_global_ns, self.user_ns)\n"
     ]
    }
   ],
   "source": [
    "# dataset\n",
    "df_sample = pd.read_csv(raw_path).sample(n=1000000)"
   ]
  },
  {
   "cell_type": "code",
   "execution_count": 5,
   "id": "34bc5cc8-5fba-4de9-9f0b-da8bdf1e2f38",
   "metadata": {},
   "outputs": [
    {
     "data": {
      "text/plain": [
       "(1000000, 18)"
      ]
     },
     "execution_count": 5,
     "metadata": {},
     "output_type": "execute_result"
    }
   ],
   "source": [
    "df_sample.shape"
   ]
  },
  {
   "cell_type": "markdown",
   "id": "019844a1-b328-4549-b15d-71991a9858ce",
   "metadata": {},
   "source": [
    "# Nulls"
   ]
  },
  {
   "cell_type": "code",
   "execution_count": 8,
   "id": "f9811997-db92-4adc-be16-742ced06c113",
   "metadata": {},
   "outputs": [],
   "source": [
    "# null values\n",
    "df_sample.dropna(inplace=True)"
   ]
  },
  {
   "cell_type": "markdown",
   "id": "51f56941-8374-4729-aa77-5713f7b7d1cb",
   "metadata": {},
   "source": [
    "# data types"
   ]
  },
  {
   "cell_type": "code",
   "execution_count": 11,
   "id": "43ce0690-5364-4bc6-ae89-655f7767a19c",
   "metadata": {},
   "outputs": [],
   "source": [
    "\n",
    "# df.astype({'col1': 'int32'}).dtypes\n",
    "new_types = {'VendorID':'int32',\n",
    "            'tpep_pickup_datetime':'datetime64',\n",
    "            'tpep_dropoff_datetime':'datetime64',\n",
    "            'passenger_count':'int32',\n",
    "            'RatecodeID':'int32',\n",
    "            'store_and_fwd_flag':'category'\n",
    "            }\n"
   ]
  },
  {
   "cell_type": "code",
   "execution_count": 12,
   "id": "41c0980c-ecff-4db8-bedc-ee4e2cf48dc4",
   "metadata": {},
   "outputs": [],
   "source": [
    "df = df_sample.astype(new_types)"
   ]
  },
  {
   "cell_type": "code",
   "execution_count": 13,
   "id": "8cbdf1c5-5a9b-4cc4-91c7-a57992833f23",
   "metadata": {},
   "outputs": [
    {
     "name": "stdout",
     "output_type": "stream",
     "text": [
      "<class 'pandas.core.frame.DataFrame'>\n",
      "Int64Index: 989898 entries, 3277675 to 981927\n",
      "Data columns (total 18 columns):\n",
      " #   Column                 Non-Null Count   Dtype         \n",
      "---  ------                 --------------   -----         \n",
      " 0   VendorID               989898 non-null  int32         \n",
      " 1   tpep_pickup_datetime   989898 non-null  datetime64[ns]\n",
      " 2   tpep_dropoff_datetime  989898 non-null  datetime64[ns]\n",
      " 3   passenger_count        989898 non-null  int32         \n",
      " 4   trip_distance          989898 non-null  float64       \n",
      " 5   RatecodeID             989898 non-null  int32         \n",
      " 6   store_and_fwd_flag     989898 non-null  category      \n",
      " 7   PULocationID           989898 non-null  int64         \n",
      " 8   DOLocationID           989898 non-null  int64         \n",
      " 9   payment_type           989898 non-null  float64       \n",
      " 10  fare_amount            989898 non-null  float64       \n",
      " 11  extra                  989898 non-null  float64       \n",
      " 12  mta_tax                989898 non-null  float64       \n",
      " 13  tip_amount             989898 non-null  float64       \n",
      " 14  tolls_amount           989898 non-null  float64       \n",
      " 15  improvement_surcharge  989898 non-null  float64       \n",
      " 16  total_amount           989898 non-null  float64       \n",
      " 17  congestion_surcharge   989898 non-null  float64       \n",
      "dtypes: category(1), datetime64[ns](2), float64(10), int32(3), int64(2)\n",
      "memory usage: 125.6 MB\n"
     ]
    }
   ],
   "source": [
    "df.info()"
   ]
  },
  {
   "cell_type": "code",
   "execution_count": 14,
   "id": "f2640e63-1a7d-4fb8-892a-c1a2bc912e42",
   "metadata": {},
   "outputs": [
    {
     "data": {
      "text/html": [
       "<div>\n",
       "<style scoped>\n",
       "    .dataframe tbody tr th:only-of-type {\n",
       "        vertical-align: middle;\n",
       "    }\n",
       "\n",
       "    .dataframe tbody tr th {\n",
       "        vertical-align: top;\n",
       "    }\n",
       "\n",
       "    .dataframe thead th {\n",
       "        text-align: right;\n",
       "    }\n",
       "</style>\n",
       "<table border=\"1\" class=\"dataframe\">\n",
       "  <thead>\n",
       "    <tr style=\"text-align: right;\">\n",
       "      <th></th>\n",
       "      <th>VendorID</th>\n",
       "      <th>tpep_pickup_datetime</th>\n",
       "      <th>tpep_dropoff_datetime</th>\n",
       "      <th>passenger_count</th>\n",
       "      <th>trip_distance</th>\n",
       "      <th>RatecodeID</th>\n",
       "      <th>store_and_fwd_flag</th>\n",
       "      <th>PULocationID</th>\n",
       "      <th>DOLocationID</th>\n",
       "      <th>payment_type</th>\n",
       "      <th>fare_amount</th>\n",
       "      <th>extra</th>\n",
       "      <th>mta_tax</th>\n",
       "      <th>tip_amount</th>\n",
       "      <th>tolls_amount</th>\n",
       "      <th>improvement_surcharge</th>\n",
       "      <th>total_amount</th>\n",
       "      <th>congestion_surcharge</th>\n",
       "    </tr>\n",
       "  </thead>\n",
       "  <tbody>\n",
       "    <tr>\n",
       "      <th>4402102</th>\n",
       "      <td>2</td>\n",
       "      <td>2020-01-23 08:49:58</td>\n",
       "      <td>2020-01-23 09:12:19</td>\n",
       "      <td>1</td>\n",
       "      <td>1.71</td>\n",
       "      <td>1</td>\n",
       "      <td>N</td>\n",
       "      <td>229</td>\n",
       "      <td>107</td>\n",
       "      <td>2.0</td>\n",
       "      <td>14.0</td>\n",
       "      <td>0.0</td>\n",
       "      <td>0.5</td>\n",
       "      <td>0.0</td>\n",
       "      <td>0.0</td>\n",
       "      <td>0.3</td>\n",
       "      <td>17.3</td>\n",
       "      <td>2.5</td>\n",
       "    </tr>\n",
       "    <tr>\n",
       "      <th>4415228</th>\n",
       "      <td>2</td>\n",
       "      <td>2020-01-23 09:28:55</td>\n",
       "      <td>2020-01-23 09:57:34</td>\n",
       "      <td>1</td>\n",
       "      <td>6.92</td>\n",
       "      <td>1</td>\n",
       "      <td>N</td>\n",
       "      <td>162</td>\n",
       "      <td>261</td>\n",
       "      <td>2.0</td>\n",
       "      <td>25.5</td>\n",
       "      <td>0.0</td>\n",
       "      <td>0.5</td>\n",
       "      <td>0.0</td>\n",
       "      <td>0.0</td>\n",
       "      <td>0.3</td>\n",
       "      <td>28.8</td>\n",
       "      <td>2.5</td>\n",
       "    </tr>\n",
       "  </tbody>\n",
       "</table>\n",
       "</div>"
      ],
      "text/plain": [
       "         VendorID tpep_pickup_datetime tpep_dropoff_datetime  passenger_count  \\\n",
       "4402102         2  2020-01-23 08:49:58   2020-01-23 09:12:19                1   \n",
       "4415228         2  2020-01-23 09:28:55   2020-01-23 09:57:34                1   \n",
       "\n",
       "         trip_distance  RatecodeID store_and_fwd_flag  PULocationID  \\\n",
       "4402102           1.71           1                  N           229   \n",
       "4415228           6.92           1                  N           162   \n",
       "\n",
       "         DOLocationID  payment_type  fare_amount  extra  mta_tax  tip_amount  \\\n",
       "4402102           107           2.0         14.0    0.0      0.5         0.0   \n",
       "4415228           261           2.0         25.5    0.0      0.5         0.0   \n",
       "\n",
       "         tolls_amount  improvement_surcharge  total_amount  \\\n",
       "4402102           0.0                    0.3          17.3   \n",
       "4415228           0.0                    0.3          28.8   \n",
       "\n",
       "         congestion_surcharge  \n",
       "4402102                   2.5  \n",
       "4415228                   2.5  "
      ]
     },
     "execution_count": 14,
     "metadata": {},
     "output_type": "execute_result"
    }
   ],
   "source": [
    "df.sample(2)"
   ]
  },
  {
   "cell_type": "markdown",
   "id": "653fe4c7-0668-4a4b-bff9-2df85bc2b9a9",
   "metadata": {},
   "source": [
    "# export data"
   ]
  },
  {
   "cell_type": "code",
   "execution_count": 16,
   "id": "6e598631-bd14-41a8-8e28-361e973fdd70",
   "metadata": {},
   "outputs": [],
   "source": [
    "df.to_pickle(EXPORT_PATH)"
   ]
  }
 ],
 "metadata": {
  "kernelspec": {
   "display_name": "Python 3 (ipykernel)",
   "language": "python",
   "name": "python3"
  },
  "language_info": {
   "codemirror_mode": {
    "name": "ipython",
    "version": 3
   },
   "file_extension": ".py",
   "mimetype": "text/x-python",
   "name": "python",
   "nbconvert_exporter": "python",
   "pygments_lexer": "ipython3",
   "version": "3.9.7"
  }
 },
 "nbformat": 4,
 "nbformat_minor": 5
}
